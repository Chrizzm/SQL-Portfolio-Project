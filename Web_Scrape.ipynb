{
  "nbformat": 4,
  "nbformat_minor": 0,
  "metadata": {
    "colab": {
      "provenance": []
    },
    "kernelspec": {
      "name": "python3",
      "display_name": "Python 3"
    },
    "language_info": {
      "name": "python"
    }
  },
  "cells": [
    {
      "cell_type": "code",
      "execution_count": 3,
      "metadata": {
        "colab": {
          "base_uri": "https://localhost:8080/"
        },
        "id": "THTASMczxiIy",
        "outputId": "24f7028e-1c67-412e-9446-e3f6f4993220"
      },
      "outputs": [
        {
          "output_type": "stream",
          "name": "stdout",
          "text": [
            "Requirement already satisfied: requests in /usr/local/lib/python3.10/dist-packages (2.31.0)\n",
            "Requirement already satisfied: beautifulsoup4 in /usr/local/lib/python3.10/dist-packages (4.12.3)\n",
            "Requirement already satisfied: charset-normalizer<4,>=2 in /usr/local/lib/python3.10/dist-packages (from requests) (3.3.2)\n",
            "Requirement already satisfied: idna<4,>=2.5 in /usr/local/lib/python3.10/dist-packages (from requests) (3.7)\n",
            "Requirement already satisfied: urllib3<3,>=1.21.1 in /usr/local/lib/python3.10/dist-packages (from requests) (2.0.7)\n",
            "Requirement already satisfied: certifi>=2017.4.17 in /usr/local/lib/python3.10/dist-packages (from requests) (2024.2.2)\n",
            "Requirement already satisfied: soupsieve>1.2 in /usr/local/lib/python3.10/dist-packages (from beautifulsoup4) (2.5)\n"
          ]
        }
      ],
      "source": [
        "!pip install requests beautifulsoup4\n",
        "\n"
      ]
    },
    {
      "cell_type": "code",
      "source": [
        "!pip install pymysql\n",
        "\n"
      ],
      "metadata": {
        "colab": {
          "base_uri": "https://localhost:8080/"
        },
        "id": "o_H5Uhn-6THa",
        "outputId": "fac589d8-7ef7-4ee6-eb2f-d7a697944d0d"
      },
      "execution_count": 2,
      "outputs": [
        {
          "output_type": "stream",
          "name": "stdout",
          "text": [
            "Collecting pymysql\n",
            "  Downloading PyMySQL-1.1.0-py3-none-any.whl (44 kB)\n",
            "\u001b[?25l     \u001b[90m━━━━━━━━━━━━━━━━━━━━━━━━━━━━━━━━━━━━━━━━\u001b[0m \u001b[32m0.0/44.8 kB\u001b[0m \u001b[31m?\u001b[0m eta \u001b[36m-:--:--\u001b[0m\r\u001b[2K     \u001b[90m━━━━━━━━━━━━━━━━━━━━━━━━━━━━━━━━━━━━━━━━\u001b[0m \u001b[32m44.8/44.8 kB\u001b[0m \u001b[31m1.9 MB/s\u001b[0m eta \u001b[36m0:00:00\u001b[0m\n",
            "\u001b[?25hInstalling collected packages: pymysql\n",
            "Successfully installed pymysql-1.1.0\n"
          ]
        }
      ]
    },
    {
      "cell_type": "code",
      "source": [
        "import requests\n",
        "from bs4 import BeautifulSoup\n",
        "import pandas as pd\n",
        "from sqlalchemy import create_engine, text\n",
        "import time\n",
        "\n",
        "# Setup database connection\n",
        "DATABASE_TYPE = 'mysql'\n",
        "DBAPI = 'pymysql'\n",
        "HOST = 'spacex-project1.c9mbbltare10.us-east-1.rds.amazonaws.com'\n",
        "USER = 'spaceboy'\n",
        "PASSWORD = 'Flytweet04'\n",
        "DATABASE = 'sql_project'\n",
        "PORT = 3306\n",
        "engine = create_engine(f\"{DATABASE_TYPE}+{DBAPI}://{USER}:{PASSWORD}@{HOST}:{PORT}/{DATABASE}\")\n",
        "\n",
        "def scrape_spacex_launches():\n",
        "    base_url = 'https://www.spacex.com/launches/'\n",
        "    response = requests.get(base_url)\n",
        "    soup = BeautifulSoup(response.text, 'html.parser')\n",
        "\n",
        "    # Scrape and store main launch data\n",
        "    missions = soup.select('.label')\n",
        "    dates = soup.select('.date')\n",
        "    launch_data = [(mission.text.strip(), date.text.strip()) for mission, date in zip(missions, dates)]\n",
        "    df_launches = pd.DataFrame(launch_data, columns=['mission_name', 'launch_date'])\n",
        "\n",
        "    # Scrape details from each launch page\n",
        "    launch_details = []\n",
        "    links = soup.find_all('a', class_='article-header', href=True)\n",
        "    for link in links:\n",
        "        url = 'https://www.spacex.com' + link['href']\n",
        "        detail_response = requests.get(url)\n",
        "        detail_soup = BeautifulSoup(detail_response.text, 'html.parser')\n",
        "        paragraphs = detail_soup.find_all('p')\n",
        "        details = ' '.join(paragraph.text.strip() for paragraph in paragraphs)\n",
        "        launch_details.append({'url': url, 'details': details})\n",
        "    df_details = pd.DataFrame(launch_details)\n",
        "\n",
        "    # Insert data into the database\n",
        "    with engine.connect() as connection:\n",
        "        df_launches.to_sql('spacex_launches', con=connection, if_exists='append', index=False)\n",
        "        df_details.to_sql('spacex_launch_details', con=connection, if_exists='append', index=False)\n",
        "\n",
        "if __name__ == \"__main__\":\n",
        "    scrape_spacex_launches()\n"
      ],
      "metadata": {
        "id": "u6RMDJygZ3SF"
      },
      "execution_count": 3,
      "outputs": []
    },
    {
      "cell_type": "code",
      "source": [
        "with engine.begin() as connection:  # begin a transaction\n",
        "    df.to_sql('spacex_launches', con=connection, index=False, if_exists='append', method=None)\n"
      ],
      "metadata": {
        "id": "qjGkMlGt2_19"
      },
      "execution_count": 24,
      "outputs": []
    },
    {
      "cell_type": "code",
      "source": [
        "!pip install selenium\n",
        "!pip install webdriver_manager\n"
      ],
      "metadata": {
        "id": "JgowlcUB_FaB"
      },
      "execution_count": null,
      "outputs": []
    }
  ]
}